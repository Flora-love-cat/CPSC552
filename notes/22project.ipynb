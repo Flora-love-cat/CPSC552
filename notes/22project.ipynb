{
 "cells": [
  {
   "attachments": {},
   "cell_type": "markdown",
   "metadata": {},
   "source": [
    "# topic"
   ]
  },
  {
   "attachments": {},
   "cell_type": "markdown",
   "metadata": {},
   "source": [
    "- application: create a framework for processing a particular type of dataset (genomic data, health data, physics simulation data).\n",
    "\n",
    "- architecture and regularization\n",
    "\n",
    "    - archetypal regularization\n",
    "    \n",
    "    - Consciousness prior\n",
    "\n",
    "    - Attention layers\n",
    "\n",
    "    - activation function\n",
    "\n",
    "- generalization\n",
    "\n",
    "    - minimal level of over-parameterization for generalization: without dimension reduction, small number of layers, just one example\n",
    "\n",
    "    - when generalize poorly: anomaly, adversarial noise, polynomially neurons compared to input size with SGD.\n",
    "\n",
    "    - inductive bias and how it changes with initialization/activation/depth \n",
    "\n",
    "    - why deep NN generalize well? coherent gradient\n",
    "\n",
    "    - can we find global minima in some cases? NTK (infinitely wide network)\n",
    "\n",
    "- loss landscape\n",
    "\n",
    "    - assess quality of reached minima by visualizing surrounding loss landscape\n",
    "\n",
    "    - effect of regularization/architecture/etc on loss landscape\n",
    "\n",
    "- optimization methods: second derivative, momentum, equilibrium training\n",
    "\n",
    "- paradigms: quantum NN, Neural ODE and infinite depth network, binarized/logical network\n",
    "\n",
    "- simulation/algorithm: implement an algorithm using NN\n",
    "\n",
    "    - diffusion map, tSNE, EMD\n",
    "\n",
    "    - MCMC simulator\n",
    "\n",
    "    - deep RL"
   ]
  },
  {
   "attachments": {},
   "cell_type": "markdown",
   "metadata": {},
   "source": [
    "# proposal"
   ]
  },
  {
   "attachments": {},
   "cell_type": "markdown",
   "metadata": {},
   "source": [
    "1. What is the problem that you will be investigating? Why is it interesting?\n",
    "\n",
    "2. What are the challenges of this project?\n",
    "\n",
    "3. What dataset are you using?\n",
    "\n",
    "4. What Deep learning approach will you use/develop?\n",
    "\n",
    "5. How will you evaluate your results?\n",
    "\n",
    "    Qualitatively, what kind of results do you expect (e.g. plots or\n",
    "figures)?\n",
    "\n",
    "    Quantitatively, what kind of analysis will you use to evaluate and/or compare your results (e.g. what performance metrics or statistical tests)?"
   ]
  },
  {
   "attachments": {},
   "cell_type": "markdown",
   "metadata": {},
   "source": [
    "# report"
   ]
  },
  {
   "attachments": {},
   "cell_type": "markdown",
   "metadata": {},
   "source": [
    "- Introduction/Motivation \n",
    "\n",
    "    - What is the problem you are solving? \n",
    "    \n",
    "    - What need does it solve?\n",
    "\n",
    "- Background/Related Work \n",
    "\n",
    "    - What has been done before? \n",
    "    \n",
    "    - What frameworks have been proposed? \n",
    "    \n",
    "    - What are the limitations of the previous work?\n",
    "\n",
    "- Model: \n",
    "\n",
    "    - What is your neural network model/architectural feature etc? \n",
    "    \n",
    "    - What interesting properties does it have? \n",
    "    \n",
    "    - [Model Schematic]\n",
    "\n",
    "- Empirical/Theoretical Results: \n",
    "\n",
    "    - Validation on relevant datasets, \n",
    "    \n",
    "    - evidence of model generalization, \n",
    "    \n",
    "    - proofs of algorithms\n",
    "\n",
    "    - [Results Tables, figures]\n",
    "\n",
    "\n",
    "- Conclusions/Future work: \n",
    "\n",
    "    - Where can this work go in the future?"
   ]
  },
  {
   "cell_type": "markdown",
   "metadata": {},
   "source": []
  }
 ],
 "metadata": {
  "language_info": {
   "name": "python"
  },
  "orig_nbformat": 4
 },
 "nbformat": 4,
 "nbformat_minor": 2
}
