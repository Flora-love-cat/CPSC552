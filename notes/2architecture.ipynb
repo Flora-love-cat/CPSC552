{
 "cells": [
  {
   "attachments": {},
   "cell_type": "markdown",
   "metadata": {},
   "source": [
    "# architecture"
   ]
  },
  {
   "attachments": {},
   "cell_type": "markdown",
   "metadata": {},
   "source": [
    "## classic architecture"
   ]
  },
  {
   "attachments": {},
   "cell_type": "markdown",
   "metadata": {},
   "source": [
    "Feedforward Neural Network\n",
    "\n",
    "- perceptron\n",
    "\n",
    "- MLP\n",
    "\n",
    "- CNN: Inception, ResNet, DenseNet\n",
    "\n",
    "- NeuralODE\n",
    "\n",
    "- GNN\n",
    "\n",
    "- Autoencoder: VAE\n",
    "\n",
    "- GAN: WGAN, cGAN, CycleGAN, StyleGAN\n",
    "\n",
    "- RNN: SRN, LSTM, GRU\n",
    "\n",
    "- Radial Basis Function Networks (RBFNs)\n",
    "\n",
    "\n",
    "Not Feedforward Neural Network: have feedback nodes\n",
    "\n",
    "- Neural Turing Machines\n",
    "\n",
    "- Markov Chain\n",
    "\n",
    "- Hopfield Network\n",
    "\n",
    "- Boltzman Machine: Restricted Boltzmann Machines\n",
    "\n",
    "- Deep Belief Networks (DBNs)\n",
    "\n",
    "- Transformer: BERT, GPT\n",
    "\n"
   ]
  },
  {
   "attachments": {},
   "cell_type": "markdown",
   "metadata": {},
   "source": [
    "<img src='https://www.asimovinstitute.org/wp-content/uploads/2019/04/NeuralNetworkZoo20042019.png' />"
   ]
  },
  {
   "cell_type": "markdown",
   "metadata": {},
   "source": []
  }
 ],
 "metadata": {
  "language_info": {
   "name": "python"
  },
  "orig_nbformat": 4
 },
 "nbformat": 4,
 "nbformat_minor": 2
}
